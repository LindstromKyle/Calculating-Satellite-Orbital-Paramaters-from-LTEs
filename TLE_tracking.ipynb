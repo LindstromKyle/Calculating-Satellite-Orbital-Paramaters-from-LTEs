{
 "cells": [
  {
   "cell_type": "code",
   "execution_count": 1,
   "metadata": {},
   "outputs": [],
   "source": [
    "from pyorbital import tlefile\n",
    "from pyorbital.orbital import Orbital\n",
    "from datetime import datetime"
   ]
  },
  {
   "cell_type": "code",
   "execution_count": 8,
   "metadata": {},
   "outputs": [
    {
     "name": "stdout",
     "output_type": "stream",
     "text": [
      "2023-01-11 13:48:26\n"
     ]
    },
    {
     "data": {
      "text/plain": [
       "(175.4820138692113, 6.360993568898433, 829.2997832966139)"
      ]
     },
     "execution_count": 8,
     "metadata": {},
     "output_type": "execute_result"
    }
   ],
   "source": [
    "#1. coordinates at time of measurement\n",
    "dtobj = datetime(2023,1,11,13,48,26)\n",
    "snpp = Orbital('Suomi NPP', tle_file='./tle/suomi_1_11.txt')\n",
    "print(dtobj)\n",
    "snpp.get_lonlatalt(dtobj)"
   ]
  },
  {
   "cell_type": "markdown",
   "metadata": {},
   "source": [
    "# 2"
   ]
  },
  {
   "cell_type": "code",
   "execution_count": 9,
   "metadata": {},
   "outputs": [
    {
     "name": "stdout",
     "output_type": "stream",
     "text": [
      "2023-01-11 20:03:16.392327\n",
      "(-115.78994991082226, 61.7771113061582, 836.551459773485)\n"
     ]
    }
   ],
   "source": [
    "#2. coordinates later with time stamp and real answer\n",
    "now = datetime.utcnow()\n",
    "print(now)\n",
    "param_2 = snpp.get_lonlatalt(now)\n",
    "print(param_2)"
   ]
  },
  {
   "cell_type": "code",
   "execution_count": 10,
   "metadata": {},
   "outputs": [],
   "source": [
    "# -115.64  61.59  836.53"
   ]
  },
  {
   "cell_type": "markdown",
   "metadata": {},
   "source": [
    "# 3"
   ]
  },
  {
   "cell_type": "code",
   "execution_count": null,
   "metadata": {},
   "outputs": [],
   "source": [
    "#3. coordinates later with time stamp and real answer\n",
    "now = datetime.utcnow()\n",
    "print(now)\n",
    "param_3 = snpp.get_lonlatalt(now)\n",
    "print(param_3)"
   ]
  }
 ],
 "metadata": {
  "kernelspec": {
   "display_name": "Python (learn-env)",
   "language": "python",
   "name": "learn-env"
  },
  "language_info": {
   "codemirror_mode": {
    "name": "ipython",
    "version": 3
   },
   "file_extension": ".py",
   "mimetype": "text/x-python",
   "name": "python",
   "nbconvert_exporter": "python",
   "pygments_lexer": "ipython3",
   "version": "3.8.5"
  }
 },
 "nbformat": 4,
 "nbformat_minor": 4
}
