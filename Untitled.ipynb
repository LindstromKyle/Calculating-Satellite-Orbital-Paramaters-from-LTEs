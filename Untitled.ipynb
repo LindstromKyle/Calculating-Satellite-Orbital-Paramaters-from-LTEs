{
 "cells": [
  {
   "cell_type": "code",
   "execution_count": 1,
   "metadata": {},
   "outputs": [],
   "source": [
    "from pyorbital import tlefile\n",
    "\n"
   ]
  },
  {
   "cell_type": "code",
   "execution_count": 5,
   "metadata": {},
   "outputs": [
    {
     "data": {
      "text/plain": [
       "98.9282"
      ]
     },
     "execution_count": 5,
     "metadata": {},
     "output_type": "execute_result"
    }
   ],
   "source": [
    "tle = tlefile.read('noaa 18', './tle/noa18_1_11.txt')\n",
    "tle.inclination"
   ]
  },
  {
   "cell_type": "code",
   "execution_count": 7,
   "metadata": {},
   "outputs": [
    {
     "data": {
      "text/plain": [
       "(-83.06961899002275, -44.16778074907259, 844.4467768969146)"
      ]
     },
     "execution_count": 7,
     "metadata": {},
     "output_type": "execute_result"
    }
   ],
   "source": [
    "from pyorbital.orbital import Orbital\n",
    "from datetime import datetime\n",
    "# Use current TLEs from the internet:\n",
    "orb = Orbital(\"Suomi NPP\")\n",
    "now = datetime.utcnow()\n",
    "# Get normalized position and velocity of the satellite:\n",
    "orb.get_position(now)\n",
    "\n",
    "# Get longitude, latitude and altitude of the satellite:\n",
    "orb.get_lonlatalt(now)"
   ]
  },
  {
   "cell_type": "markdown",
   "metadata": {},
   "source": [
    "# 2"
   ]
  },
  {
   "cell_type": "code",
   "execution_count": 12,
   "metadata": {},
   "outputs": [
    {
     "name": "stdout",
     "output_type": "stream",
     "text": [
      "2023-01-11 19:44:06.439561\n"
     ]
    },
    {
     "data": {
      "text/plain": [
       "(-93.62875771281108, -5.114271423534896, 830.5577057341662)"
      ]
     },
     "execution_count": 12,
     "metadata": {},
     "output_type": "execute_result"
    }
   ],
   "source": [
    "# Use current TLEs from the internet:\n",
    "orb = Orbital(\"Suomi NPP\")\n",
    "now = datetime.utcnow()\n",
    "# Get normalized position and velocity of the satellite:\n",
    "orb.get_position(now)\n",
    "\n",
    "print(now)\n",
    "\n",
    "# Get longitude, latitude and altitude of the satellite:\n",
    "orb.get_lonlatalt(now)"
   ]
  },
  {
   "cell_type": "code",
   "execution_count": 9,
   "metadata": {},
   "outputs": [
    {
     "data": {
      "text/plain": [
       "(150.85889992221223, 33.19311987209215, 830.590024849351)"
      ]
     },
     "execution_count": 9,
     "metadata": {},
     "output_type": "execute_result"
    }
   ],
   "source": [
    "from pyorbital.orbital import Orbital\n",
    "from datetime import datetime\n",
    "orb = Orbital(\"Suomi NPP\")\n",
    "dtobj = datetime(2023,1,11,3,0)\n",
    "orb.get_lonlatalt(dtobj)"
   ]
  },
  {
   "cell_type": "code",
   "execution_count": 13,
   "metadata": {},
   "outputs": [
    {
     "data": {
      "text/plain": [
       "(-93.62293704602071, -5.140101814545139, 830.5629405149296)"
      ]
     },
     "execution_count": 13,
     "metadata": {},
     "output_type": "execute_result"
    }
   ],
   "source": [
    "dtobj = datetime(2023,1,11,19,44,6)\n",
    "snpp = Orbital('Suomi NPP', tle_file='./tle/suomi_1_11.txt')\n",
    "snpp.get_lonlatalt(dtobj)"
   ]
  },
  {
   "cell_type": "code",
   "execution_count": null,
   "metadata": {},
   "outputs": [],
   "source": [
    "snpp = Orbital('Suomi NPP', tle_file='EARLIER')\n",
    "snpp.get_lonlatalt(dtobj)"
   ]
  }
 ],
 "metadata": {
  "kernelspec": {
   "display_name": "Python (learn-env)",
   "language": "python",
   "name": "learn-env"
  },
  "language_info": {
   "codemirror_mode": {
    "name": "ipython",
    "version": 3
   },
   "file_extension": ".py",
   "mimetype": "text/x-python",
   "name": "python",
   "nbconvert_exporter": "python",
   "pygments_lexer": "ipython3",
   "version": "3.8.5"
  }
 },
 "nbformat": 4,
 "nbformat_minor": 4
}
